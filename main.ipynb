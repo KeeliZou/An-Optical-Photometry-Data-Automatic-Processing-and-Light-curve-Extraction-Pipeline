{
 "cells": [
  {
   "cell_type": "code",
   "execution_count": 1,
   "metadata": {},
   "outputs": [
    {
     "name": "stderr",
     "output_type": "stream",
     "text": [
      "WARNING: Astrometry.net API key not found in configuration file [astroquery.astrometry_net.core]\n",
      "WARNING: You need to manually edit the configuration file and add it [astroquery.astrometry_net.core]\n",
      "WARNING: You may also register it for this session with AstrometryNet.key = 'XXXXXXXX' [astroquery.astrometry_net.core]\n"
     ]
    },
    {
     "name": "stdout",
     "output_type": "stream",
     "text": [
      "\u001b[1;31m Initialing file path!\u001b[0m\n",
      "\u001b[1;31m Aligning images and stars!\u001b[0m\n",
      " Completed ! \n",
      " Completed ! \n",
      " Completed ! \n",
      " Completed ! \n",
      "\u001b[1;31m Selecting candidate stars!\u001b[0m\n"
     ]
    },
    {
     "name": "stderr",
     "output_type": "stream",
     "text": [
      "The PostScript backend does not support transparency; partially transparent artists will be rendered opaque.\n",
      "The PostScript backend does not support transparency; partially transparent artists will be rendered opaque.\n"
     ]
    },
    {
     "name": "stdout",
     "output_type": "stream",
     "text": [
      " Completed ! \n"
     ]
    },
    {
     "name": "stderr",
     "output_type": "stream",
     "text": [
      "The PostScript backend does not support transparency; partially transparent artists will be rendered opaque.\n",
      "The PostScript backend does not support transparency; partially transparent artists will be rendered opaque.\n"
     ]
    },
    {
     "name": "stdout",
     "output_type": "stream",
     "text": [
      " Completed ! \n"
     ]
    },
    {
     "name": "stderr",
     "output_type": "stream",
     "text": [
      "The PostScript backend does not support transparency; partially transparent artists will be rendered opaque.\n",
      "The PostScript backend does not support transparency; partially transparent artists will be rendered opaque.\n"
     ]
    },
    {
     "name": "stdout",
     "output_type": "stream",
     "text": [
      " Completed ! \n"
     ]
    },
    {
     "name": "stderr",
     "output_type": "stream",
     "text": [
      "The PostScript backend does not support transparency; partially transparent artists will be rendered opaque.\n",
      "The PostScript backend does not support transparency; partially transparent artists will be rendered opaque.\n",
      "The PostScript backend does not support transparency; partially transparent artists will be rendered opaque.\n"
     ]
    },
    {
     "name": "stdout",
     "output_type": "stream",
     "text": [
      " Completed ! \n",
      "\u001b[1;31m Ploting Images!\u001b[0m\n",
      "compiling B band images\n",
      " Completed ! \n",
      "compiling V band images\n"
     ]
    },
    {
     "name": "stderr",
     "output_type": "stream",
     "text": [
      "The PostScript backend does not support transparency; partially transparent artists will be rendered opaque.\n",
      "The PostScript backend does not support transparency; partially transparent artists will be rendered opaque.\n",
      "The PostScript backend does not support transparency; partially transparent artists will be rendered opaque.\n"
     ]
    },
    {
     "name": "stdout",
     "output_type": "stream",
     "text": [
      " Completed ! \n",
      "compiling R band images\n",
      " Completed ! \n",
      "compiling I band images\n",
      " Completed ! \n"
     ]
    }
   ],
   "source": [
    "import initial\n",
    "import bfc_2\n",
    "import bfc_1\n",
    "import bkg\n",
    "import star_choose as sc\n",
    "import plot as pt\n",
    "\n",
    "#用户需要做的事：开辟一个文件夹，在里面创建raw_data,reduced_data,code三个文件夹\n",
    "#把原始数据扔到raw_data里，把代码扔到reduced_data里\n",
    "\n",
    "#这是需要用户自己输入的信息\n",
    "#观测日期(部分85数据需要此信息（），看观测助手怎么写了)\n",
    "#date_obs = 20220725\n",
    "#波段信息\n",
    "band_info = ['B','V','R','I']\n",
    "#目标名（与望远镜观测文件名中的名字一致）\n",
    "target_name = 'V670And'\n",
    "#以'07 35 29.88 +49 28 41.57'或'07:35:29.88 +49:28:41.57'的形式给出\n",
    "target_coor = '23 30 37.2536 +46 24 04.2822'\n",
    "#x、y轴裁剪值\n",
    "edge_cutx = 20\n",
    "edge_cuty = 20\n",
    "#天测找星sigma倍数(默认50倍)\n",
    "ast_sigma = 50\n",
    "#星象初始半高全宽\n",
    "fwhm_initial = 5\n",
    "#图像星点阈值（低于此值意味着丢弃该图像）\n",
    "star_num = 20\n",
    "#绘图指定参考星索引（可以不设置）\n",
    "\n",
    "\n",
    "#以下内容勿动\n",
    "\n",
    "\n",
    "#地址赋值\n",
    "raw_bias,raw_data_file_path,super_bias,raw_flat,super_flat,cor_data_file_path,cut_data_file_path,ast_data_file_path,star_cat_file_path,confirmed_star_path,reduced_data_file_path,png_file_path,biasfile1,biasfile2,flatfile1,flatfile2,confirmed_star_candidate_path,target_star_path = initial.address_cope_60old(band_info,target_name)\n",
    "#本底合并\n",
    "#bfc_1.bias_combine(raw_bias,super_bias)\n",
    "#平场合并\n",
    "#bfc_1.flat_combine(raw_flat,super_flat,super_bias,band_info)\n",
    "#原始图像本底平场合并\n",
    "#bfc_2.bfc_raw(super_bias,super_flat,band_info,raw_data_file_path,reduced_data_file_path)\n",
    "#图像裁剪\n",
    "#bfc_2.cor_cut(cor_data_file_path,reduced_data_file_path,band_info,edge_cutx,edge_cuty)\n",
    "#评估天光背景，剔出不佳图像\n",
    "#cfiles = bkg.bkg_evaluate(band_info,cut_data_file_path)\n",
    "#进行天测操作\n",
    "#error_image1 = bkg.ast_solve(band_info,cfiles,fwhm_initial,ast_sigma)\n",
    "#计算增益与读出噪声\n",
    "#gain,rdnoise = bkg.gain_caculate(band_info,biasfile1,biasfile2,flatfile1,flatfile2)\n",
    "#进行找星操作\n",
    "#error_image2 = bkg.star_find(band_info,ast_data_file_path,gain,fwhm_initial,star_num)\n",
    "#这里看看要不要加一个error_image的保存\n",
    "#星点对齐与参考星选择（外加望远镜赤经赤纬移动）\n",
    "sta_image = sc.star_choose(target_coor,band_info,star_cat_file_path,confirmed_star_path,png_file_path)\n",
    "#参考星选取\n",
    "ref_star_cat,check_star_cat = sc.refer_chooes(band_info,confirmed_star_candidate_path,target_star_path,sta_image,png_file_path)\n",
    "#进行绘图\n",
    "pt.auto_plot(band_info,target_star_path,ref_star_cat,check_star_cat,confirmed_star_candidate_path,png_file_path,confirmed_star_path)"
   ]
  }
 ],
 "metadata": {
  "kernelspec": {
   "display_name": "base",
   "language": "python",
   "name": "python3"
  },
  "language_info": {
   "codemirror_mode": {
    "name": "ipython",
    "version": 3
   },
   "file_extension": ".py",
   "mimetype": "text/x-python",
   "name": "python",
   "nbconvert_exporter": "python",
   "pygments_lexer": "ipython3",
   "version": "3.9.13"
  },
  "orig_nbformat": 4
 },
 "nbformat": 4,
 "nbformat_minor": 2
}
